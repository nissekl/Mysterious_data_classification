{
 "cells": [
  {
   "cell_type": "markdown",
   "metadata": {},
   "source": [
    "# PyTorch saving/loading demo\n",
    "\n",
    "Say that you build and train a model using PyTorch for your project.  The training may take a long time.  The TA will want to run your model *without* retraining it.  This is possible if the model is properly saved.  We will now demonstrate how to save and load a PyTorch model."
   ]
  },
  {
   "cell_type": "code",
   "execution_count": 1,
   "metadata": {},
   "outputs": [],
   "source": [
    "import numpy as np\n",
    "import torch\n",
    "import torch.nn as nn"
   ]
  },
  {
   "cell_type": "markdown",
   "metadata": {},
   "source": [
    "First, we will create a very simple PyTorch model."
   ]
  },
  {
   "cell_type": "code",
   "execution_count": 2,
   "metadata": {},
   "outputs": [],
   "source": [
    "d_in = 30\n",
    "d_out = 20\n",
    "\n",
    "class DumbNet(nn.Module):\n",
    "    def __init__(self):\n",
    "        super(DumbNet, self).__init__()\n",
    "        self.Dense = nn.Linear(d_in,d_out)\n",
    "    def forward(self,x):\n",
    "        out = self.Dense(x)\n",
    "        return out\n",
    "\n",
    "model = DumbNet()"
   ]
  },
  {
   "cell_type": "markdown",
   "metadata": {},
   "source": [
    "Usually, we would train the model at this point.  But, since this is only a saving demo, we will just use the random initial coefficients that the model was initialized with. \n",
    "\n",
    "To save a PyTorch model, we take an input, pass it through the model, and save the \"trace\".  For this purpose, we can use any input.  We will create a random input with the proper dimension."
   ]
  },
  {
   "cell_type": "code",
   "execution_count": 3,
   "metadata": {},
   "outputs": [],
   "source": [
    "x = torch.randn(d_in) # random input\n",
    "x = x[None,:] # add singleton batch index\n",
    "\n",
    "with torch.no_grad():\n",
    "    traced_cell = torch.jit.trace(model, (x))\n",
    "torch.jit.save(traced_cell, \"./saved_model.pth\")"
   ]
  },
  {
   "cell_type": "markdown",
   "metadata": {},
   "source": [
    "Let's check to see whether the save worked.  First we input the signal x to the original model, "
   ]
  },
  {
   "cell_type": "code",
   "execution_count": 4,
   "metadata": {},
   "outputs": [
    {
     "name": "stdout",
     "output_type": "stream",
     "text": [
      "tensor([[ 1.1029,  0.2097, -0.9790,  0.7794,  0.0414, -0.0873, -0.3453,  0.4293,\n",
      "          0.1349, -0.7586, -0.2868,  0.5888,  0.3675, -0.0620, -0.1760, -0.7405,\n",
      "          0.3168,  0.1510, -0.5165,  0.2528]])\n"
     ]
    }
   ],
   "source": [
    "# original model:\n",
    "with torch.no_grad():\n",
    "    out = model(x)\n",
    "print(out)"
   ]
  },
  {
   "cell_type": "markdown",
   "metadata": {},
   "source": [
    "Now we also input the signal to the reloaded model."
   ]
  },
  {
   "cell_type": "code",
   "execution_count": 5,
   "metadata": {},
   "outputs": [
    {
     "name": "stdout",
     "output_type": "stream",
     "text": [
      "tensor([[ 1.1029,  0.2097, -0.9790,  0.7794,  0.0414, -0.0873, -0.3453,  0.4293,\n",
      "          0.1349, -0.7586, -0.2868,  0.5888,  0.3675, -0.0620, -0.1760, -0.7405,\n",
      "          0.3168,  0.1510, -0.5165,  0.2528]])\n"
     ]
    }
   ],
   "source": [
    "# reloaded model:\n",
    "model2 = torch.jit.load(\"./saved_model.pth\")\n",
    "with torch.no_grad():\n",
    "    out2 = model2(x)\n",
    "print(out2)"
   ]
  },
  {
   "cell_type": "markdown",
   "metadata": {},
   "source": [
    "Since the outputs are identical, the save worked."
   ]
  },
  {
   "cell_type": "code",
   "execution_count": null,
   "metadata": {},
   "outputs": [],
   "source": []
  }
 ],
 "metadata": {
  "kernelspec": {
   "display_name": "Python 3",
   "language": "python",
   "name": "python3"
  },
  "language_info": {
   "codemirror_mode": {
    "name": "ipython",
    "version": 3
   },
   "file_extension": ".py",
   "mimetype": "text/x-python",
   "name": "python",
   "nbconvert_exporter": "python",
   "pygments_lexer": "ipython3",
   "version": "3.7.6"
  },
  "varInspector": {
   "cols": {
    "lenName": 16,
    "lenType": 16,
    "lenVar": 40
   },
   "kernels_config": {
    "python": {
     "delete_cmd_postfix": "",
     "delete_cmd_prefix": "del ",
     "library": "var_list.py",
     "varRefreshCmd": "print(var_dic_list())"
    },
    "r": {
     "delete_cmd_postfix": ") ",
     "delete_cmd_prefix": "rm(",
     "library": "var_list.r",
     "varRefreshCmd": "cat(var_dic_list()) "
    }
   },
   "types_to_exclude": [
    "module",
    "function",
    "builtin_function_or_method",
    "instance",
    "_Feature"
   ],
   "window_display": false
  }
 },
 "nbformat": 4,
 "nbformat_minor": 4
}
